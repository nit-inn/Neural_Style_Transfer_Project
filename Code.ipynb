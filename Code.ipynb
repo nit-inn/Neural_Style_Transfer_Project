{
 "cells": [
  {
   "cell_type": "code",
   "execution_count": null,
   "id": "375abb5e-f08b-426b-8d15-88a51e1f2ef6",
   "metadata": {},
   "outputs": [],
   "source": [
    "import os\n",
    "import tensorflow as tf\n",
    "import matplotlib.pyplot as plt \n",
    "import numpy as np\n",
    "from PIL import Image\n",
    "import time\n",
    "import functools"
   ]
  },
  {
   "cell_type": "code",
   "execution_count": null,
   "id": "0d551b4e-1042-43cc-9992-6286b7f2382f",
   "metadata": {},
   "outputs": [],
   "source": [
    "def load_image(image):\n",
    "    max_dim = 512\n",
    "    image = tf.io.read_file(image)\n",
    "    image = tf.image.decode_jpeg(image,channels=3)\n",
    "    image = tf.image.convert_image_dtype(image, tf.float32)\n",
    "    shape = tf.cast(tf.shape(image)[:-1], tf.float32)\n",
    "    long_dim = max(shape)\n",
    "    scale = max_dim / long_dim\n",
    "    new_shape = tf.cast(shape*scale, tf.int32)\n",
    "    image = tf.image.resize(image, new_shape)\n",
    "    image = image[tf.newaxis, :]\n",
    "    return image"
   ]
  },
  {
   "cell_type": "code",
   "execution_count": null,
   "id": "160207b1-2215-4f36-82a7-08e2ddd69e8e",
   "metadata": {},
   "outputs": [],
   "source": [
    "content_image = \"Content_image.jpg\"\n",
    "style_image = \"Style_image.jpg \""
   ]
  },
  {
   "cell_type": "code",
   "execution_count": null,
   "id": "8e8fe697-1925-4638-af96-1124919a6ce1",
   "metadata": {},
   "outputs": [],
   "source": [
    "def imshow(image, title=None):\n",
    "    if len(image.shape)>3:\n",
    "        image=tf.squeeze(image, axis=0)\n",
    "    plt.imshow(image)\n",
    "    if title:\n",
    "        plt.title(title)"
   ]
  },
  {
   "cell_type": "code",
   "execution_count": null,
   "id": "8cd66369-c2d6-4713-8013-0575ecf5bd02",
   "metadata": {},
   "outputs": [],
   "source": [
    "content_image = load_image(content_image)\n",
    "style_image = load_image(style_image)\n",
    "print(content_image.shape,style_image.shape)"
   ]
  },
  {
   "cell_type": "code",
   "execution_count": null,
   "id": "51a9f672-4b72-40a1-bfe6-fdbc2680b6df",
   "metadata": {},
   "outputs": [],
   "source": [
    "plt.figure(figsize=(14,7))\n",
    "plt.subplot(1,2,1)\n",
    "imshow(content_image)\n",
    "plt.figure(figsize=(14,7))\n",
    "plt.subplot(1,2,2)\n",
    "imshow(style_image)"
   ]
  },
  {
   "cell_type": "code",
   "execution_count": null,
   "id": "471feab8-e544-4f7d-9e2a-b5aa4ca4f7ab",
   "metadata": {},
   "outputs": [],
   "source": [
    "x = tf.keras.applications.vgg19.preprocess_input(content_image*255)\n",
    "x = tf.image.resize(x, (224,224))\n",
    "x.shape"
   ]
  },
  {
   "cell_type": "code",
   "execution_count": null,
   "id": "4b823fad-23e0-40f8-b547-7fdfbc827b7f",
   "metadata": {},
   "outputs": [],
   "source": [
    "vgg = tf.keras.applications.vgg19.VGG19(weights=\"imagenet\", include_top = False)\n",
    "vgg.summary()"
   ]
  },
  {
   "cell_type": "code",
   "execution_count": null,
   "id": "dc47132d-d0da-4d48-9fe8-ce2193362c4c",
   "metadata": {},
   "outputs": [],
   "source": [
    "for layer in vgg.layers:\n",
    "    print(layer.name)"
   ]
  },
  {
   "cell_type": "code",
   "execution_count": null,
   "id": "5959c77e-4bb2-4a1c-96d0-845eb851aba1",
   "metadata": {},
   "outputs": [],
   "source": [
    "content_layer=[\"block5_conv2\"]\n",
    "style_layers =[\"block1_conv1\",\"block2_conv1\",\n",
    "               \"block3_conv1\",\"block4_conv1\",\"block5_conv1\"]\n",
    "\n",
    "num_content_layers = len(content_layer)\n",
    "num_style_layers = len(style_layers)"
   ]
  },
  {
   "cell_type": "code",
   "execution_count": null,
   "id": "ea185cb8-632f-4e0a-90e7-345c7ad88c50",
   "metadata": {},
   "outputs": [],
   "source": [
    "def vgg_layers(layer_names):\n",
    "    vgg = tf.keras.applications.VGG19(include_top=False, weights=\"imagenet\")\n",
    "    vgg.trainable = False\n",
    "    outputs = [vgg.get_layer(name).output for name in layer_names]\n",
    "    model = tf.keras.Model([vgg.input], outputs)\n",
    "    return model"
   ]
  },
  {
   "cell_type": "code",
   "execution_count": null,
   "id": "39594d74-12ae-41bc-a1a2-c142673ecf29",
   "metadata": {},
   "outputs": [],
   "source": [
    "style_extractor = vgg_layers(style_layers)\n",
    "style_outputs = style_extractor(style_image*255)"
   ]
  },
  {
   "cell_type": "code",
   "execution_count": null,
   "id": "fa1ffcb1-1984-4e71-9291-0c49b27e32ee",
   "metadata": {},
   "outputs": [],
   "source": [
    "for i in style_outputs:\n",
    "    print(i.shape)"
   ]
  },
  {
   "cell_type": "code",
   "execution_count": null,
   "id": "a182fb33-2bf5-45a2-92c2-d7cd25d12db1",
   "metadata": {},
   "outputs": [],
   "source": [
    "for name, output in zip(style_layers, style_outputs):\n",
    "    print(name)\n",
    "    print(\"shape\", output.numpy().shape)\n",
    "    print()"
   ]
  },
  {
   "cell_type": "code",
   "execution_count": null,
   "id": "76eb3424-1c40-4be3-b6ea-d7c25e475530",
   "metadata": {},
   "outputs": [],
   "source": [
    "def gram_matrix(input_tensor):\n",
    "    result = tf.linalg.einsum(\"fijc,fijd->fcd\", input_tensor, input_tensor)\n",
    "    input_shape = tf.shape(input_tensor)\n",
    "    num_locations = tf.cast(input_shape[1]*input_shape[2], tf.float32)\n",
    "    return result/(num_locations)"
   ]
  },
  {
   "cell_type": "code",
   "execution_count": null,
   "id": "0a4d875f-2ba3-4e78-bd84-b606d7af70aa",
   "metadata": {},
   "outputs": [],
   "source": [
    "class StyleContentModel(tf.keras.models.Model):\n",
    "    def __init__(self, style_layers, content_layers):\n",
    "        super(StyleContentModel, self).__init__()\n",
    "        self.vgg = vgg_layers(style_layers + content_layers)\n",
    "        self.style_layers = style_layers\n",
    "        self.content_layers = content_layers\n",
    "        self.num_style_layers = len(style_layers)\n",
    "        self.vgg.trainable = False\n",
    "\n",
    "    def call(self, inputs):\n",
    "        inputs = tf.multiply(inputs, 255.0)\n",
    "        preprocess_input = tf.keras.applications.vgg19.preprocess_input(inputs)\n",
    "        outputs = self.vgg(preprocess_input)\n",
    "        style_outputs, content_outputs = (outputs[:self.num_style_layers],outputs[self.num_style_layers:])\n",
    "        style_outputs = [gram_matrix(style_output) for style_output in style_outputs]\n",
    "        content_dict = {style_name:value for style_name, value in zip(self.content_layers, content_outputs)}\n",
    "        style_dict = {style_name:value for style_name, value in zip(self.style_layers, style_outputs)}\n",
    "        return {\"content\": content_dict, \"style\":style_dict}\n",
    "                                                                       "
   ]
  },
  {
   "cell_type": "code",
   "execution_count": null,
   "id": "c30083a2-0a87-41fa-9432-8cb7beb77914",
   "metadata": {},
   "outputs": [],
   "source": [
    "extractor = StyleContentModel(style_layers, content_layer)\n",
    "result = extractor(tf.constant(content_image))\n",
    "\n",
    "print(\"styles:\")\n",
    "for name, output in sorted(result[\"style\"].items()):\n",
    "    print(\" \", name)\n",
    "    print(\"shape\", output.numpy().shape)\n",
    "    print()"
   ]
  },
  {
   "cell_type": "code",
   "execution_count": null,
   "id": "7cde873f-554a-4003-b9b2-6fd7b359f7f6",
   "metadata": {},
   "outputs": [],
   "source": [
    "for name, output in sorted(result[\"content\"].items()):\n",
    "    print(\" \", name)\n",
    "    print(\"shape\", output.numpy().shape)\n",
    "    print()"
   ]
  },
  {
   "cell_type": "code",
   "execution_count": null,
   "id": "27bf988b-04bc-4358-a127-b6ddf02ffa23",
   "metadata": {},
   "outputs": [],
   "source": [
    "style_targets = extractor(style_image)[\"style\"]\n",
    "content_targets = extractor(content_image)[\"content\"]"
   ]
  },
  {
   "cell_type": "code",
   "execution_count": null,
   "id": "3d82b61d-2ca4-4169-b9de-4dc891461744",
   "metadata": {},
   "outputs": [],
   "source": [
    "image = tf.Variable(content_image)"
   ]
  },
  {
   "cell_type": "code",
   "execution_count": null,
   "id": "58e90ee2-0f94-4ea5-87dd-5fe05c272fa3",
   "metadata": {},
   "outputs": [],
   "source": [
    "def clip_0_1(image):\n",
    "    return tf.clip_by_value(image, clip_value_min=0.0, clip_value_max=1.0)"
   ]
  },
  {
   "cell_type": "code",
   "execution_count": null,
   "id": "ba8588df-4483-4c7f-8827-e9c7e6845488",
   "metadata": {},
   "outputs": [],
   "source": [
    "optim = tf.optimizers.Adam(learning_rate=0.01, beta_1=0.99, epsilon=1e-1)"
   ]
  },
  {
   "cell_type": "markdown",
   "id": "f670c508-3222-4318-90e9-b6931c1dc315",
   "metadata": {},
   "source": [
    "Assigning weight values for style and content loss with after lot of experiments."
   ]
  },
  {
   "cell_type": "code",
   "execution_count": null,
   "id": "49ce44ff-c5e2-47ba-9dc0-ba368bfe16f1",
   "metadata": {},
   "outputs": [],
   "source": [
    "style_weight=1e-2\n",
    "content_weight=1e4"
   ]
  },
  {
   "cell_type": "markdown",
   "id": "14c5c603-4b82-4362-8598-1170a6000390",
   "metadata": {},
   "source": [
    "Mathematical expressions for Content loss and Style loss"
   ]
  },
  {
   "cell_type": "code",
   "execution_count": null,
   "id": "90166c53-f583-4407-957e-77e840859094",
   "metadata": {},
   "outputs": [],
   "source": [
    "def style_content_loss(outputs):\n",
    "    style_outputs = outputs[\"style\"]\n",
    "    content_outputs = outputs[\"content\"]\n",
    "    style_loss = tf.add_n([tf.reduce_mean((style_outputs[name] - style_targets[name])**2)\n",
    "                           for name in style_outputs.keys()])\n",
    "    style_loss *= style_weight / num_style_layers\n",
    "    content_loss = tf.add_n([tf.reduce_mean((content_outputs[name] - content_targets[name])**2)\n",
    "                             for name in content_outputs.keys()])\n",
    "    content_loss *= content_weight / num_content_layers\n",
    "    total_loss = style_loss + content_loss\n",
    "    return total_loss, style_loss, content_loss\n"
   ]
  },
  {
   "cell_type": "code",
   "execution_count": null,
   "id": "678d9a26-2296-4d5e-bd8b-e301ca55b30b",
   "metadata": {},
   "outputs": [],
   "source": [
    "@tf.function\n",
    "def train_step(image):\n",
    "    with tf.GradientTape() as tape:\n",
    "        outputs = extractor(image)\n",
    "        total_loss, style_loss, content_loss = style_content_loss(outputs)\n",
    "    grad = tape.gradient(total_loss, image)\n",
    "    optim.apply_gradients([(grad, image)])\n",
    "    image.assign(clip_0_1(image))\n",
    "    return total_loss, style_loss, content_loss\n"
   ]
  },
  {
   "cell_type": "code",
   "execution_count": null,
   "id": "a2c90329-8018-40c6-be52-2e8609f006fd",
   "metadata": {},
   "outputs": [],
   "source": [
    "def tensor_to_image(tensor):\n",
    "    tensor = tensor*255\n",
    "    tensor = np.array(tensor, dtype=np.uint8)\n",
    "    if np.ndim(tensor)>3:\n",
    "        assert tensor.shape[0]==1\n",
    "        tensor = tensor[0]\n",
    "    return Image.fromarray(tensor)"
   ]
  },
  {
   "cell_type": "code",
   "execution_count": null,
   "id": "01c96a8e-0c0a-4fbb-9c90-8b52bae85017",
   "metadata": {},
   "outputs": [],
   "source": [
    "import matplotlib.pyplot as plt\n",
    "import IPython.display as display\n",
    "from PIL import Image\n",
    "\n",
    "epochs = 10\n",
    "steps_per_epoch = 100\n",
    "step = 0\n",
    "\n",
    "total_loss_list = []\n",
    "style_loss_list = []\n",
    "content_loss_list = []\n",
    "\n",
    "start_time = time.time()\n",
    "for epoch in range(epochs):\n",
    "    for steps in range(steps_per_epoch):\n",
    "        step += 1\n",
    "        total_loss, style_loss, content_loss = train_step(image)\n",
    "        \n",
    "        total_loss_list.append(total_loss.numpy())\n",
    "        style_loss_list.append(style_loss.numpy())\n",
    "        content_loss_list.append(content_loss.numpy())\n",
    "        \n",
    "        display.clear_output(wait=True)\n",
    "        display.display(tensor_to_image(image))\n",
    "\n",
    "end_time = time.time()\n",
    "elapsed_time = end_time - start_time\n",
    "print(f\"Time taken: {elapsed_time} seconds\")\n"
   ]
  },
  {
   "cell_type": "code",
   "execution_count": null,
   "id": "e7fa8479-ec77-4c3e-9f49-bd2079b089c2",
   "metadata": {},
   "outputs": [],
   "source": [
    "plt.figure(figsize=(10, 5))\n",
    "plt.plot(total_loss_list, label='Total Loss')\n",
    "plt.plot(style_loss_list, label='Style Loss')\n",
    "plt.plot(content_loss_list, label='Content Loss')\n",
    "plt.xlabel('Iteration')\n",
    "plt.ylabel('Loss')\n",
    "plt.legend()\n",
    "plt.title('Losses over Iterations')\n",
    "plt.show()"
   ]
  }
 ],
 "metadata": {
  "kernelspec": {
   "display_name": "Python 3 (ipykernel)",
   "language": "python",
   "name": "python3"
  },
  "language_info": {
   "codemirror_mode": {
    "name": "ipython",
    "version": 3
   },
   "file_extension": ".py",
   "mimetype": "text/x-python",
   "name": "python",
   "nbconvert_exporter": "python",
   "pygments_lexer": "ipython3",
   "version": "3.11.7"
  }
 },
 "nbformat": 4,
 "nbformat_minor": 5
}
